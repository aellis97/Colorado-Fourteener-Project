{
 "cells": [
  {
   "cell_type": "markdown",
   "id": "ec202107-3d38-4c80-9969-cb02a57237cc",
   "metadata": {},
   "source": [
    "# Colorado Fourteener Project\n",
    "\n",
    "## Introduction\n",
    "\n",
    "This goal of this project is to analyze data about the colorado mountains nicknamed the 'Colorado Fourteeners', particularly focussing on the number of visitors to the peaks and the factors which affect this.\n",
    "\n",
    "This project will scope, analyze, prepare, plot data, and seek to explain the findings from the analysis.\n",
    "\n",
    "Here are a few questions that this project has sought to answer:\n",
    "\n",
    "- What is the distribution of elevation of the fourteeners?\n",
    "- Which fourteeners are the most popular?\n",
    "- Does elevation, elevation gain, distance, isolation or difficulty affect the foot traffic of the fourteeners?\n",
    "\n",
    "#### Data sources:\n",
    "\n",
    "This data was found on the website: https://www.kaggle.com/datasets/mikeshout/14erpeaks\n",
    "\n",
    "The peaks, ranges, elevations, prominences, isolations, latitudes, and longitudes were orginally sourced from the Colorado Fourteener Wikipedia page here. Some data elements were corrected after cross referencing with information from peakbagger.com\n",
    "\n",
    "The route information was scraped from the www.outtherecolorado.com web site\n",
    "\n",
    "The traffic fields are from a report titled Estimated Hiking Use on Colorado’s 14ers composed by the Colorado Fourteener Initiative available here\n",
    "\n",
    "The photos are hosted on www.14ers.com/"
   ]
  },
  {
   "cell_type": "markdown",
   "id": "9263cea6-bff4-48ef-9ae1-e80903aece6c",
   "metadata": {},
   "source": [
    "-----\n",
    "## Context\n",
    "\n",
    "This tidy dataset lists mountain peaks rising to an elevation greater than 14,000 ft (4,267 meters) located in the state of Colorado, USA.\n",
    "\n",
    "The term fourteener refers to mountain peaks with an elevation greater than 14,000 feet (4,267 meters) and a significant prominence. The prominence is generally agreed to be at least 300 feet higher than the saddle that connecting it to a neighboring peak.\n",
    "\n",
    "In Colorado, and in this dataset, there are 58 peaks over 14,000 feet. Five of those peaks do not meet the prominence rule, so you can filter the list down to the commonly accepted list of 53 Colorado fourteeners."
   ]
  },
  {
   "cell_type": "markdown",
   "id": "3cf3a191-3716-43fd-a2b2-3083162109dd",
   "metadata": {},
   "source": [
    "-----\n",
    "## The Data\n",
    "\n",
    "#### Import Python Modules:"
   ]
  },
  {
   "cell_type": "code",
   "execution_count": 216,
   "id": "65209239-719b-44e8-a213-46cdeeef7949",
   "metadata": {},
   "outputs": [],
   "source": [
    "import numpy as np\n",
    "import matplotlib.pyplot as plt\n",
    "import seaborn as sns\n",
    "import pandas as pd"
   ]
  },
  {
   "cell_type": "markdown",
   "id": "51d5868e-4f55-407c-89b1-f39e35c32899",
   "metadata": {},
   "source": [
    "#### Import Data:"
   ]
  },
  {
   "cell_type": "code",
   "execution_count": 218,
   "id": "6b0e4367-b80c-4a35-aa14-17c76a0dd9d6",
   "metadata": {},
   "outputs": [
    {
     "data": {
      "text/html": [
       "<div>\n",
       "<style scoped>\n",
       "    .dataframe tbody tr th:only-of-type {\n",
       "        vertical-align: middle;\n",
       "    }\n",
       "\n",
       "    .dataframe tbody tr th {\n",
       "        vertical-align: top;\n",
       "    }\n",
       "\n",
       "    .dataframe thead th {\n",
       "        text-align: right;\n",
       "    }\n",
       "</style>\n",
       "<table border=\"1\" class=\"dataframe\">\n",
       "  <thead>\n",
       "    <tr style=\"text-align: right;\">\n",
       "      <th></th>\n",
       "      <th>ID</th>\n",
       "      <th>Mountain Peak</th>\n",
       "      <th>Mountain Range</th>\n",
       "      <th>Elevation_ft</th>\n",
       "      <th>fourteener</th>\n",
       "      <th>Prominence_ft</th>\n",
       "      <th>Isolation_mi</th>\n",
       "      <th>Lat</th>\n",
       "      <th>Long</th>\n",
       "      <th>Standard Route</th>\n",
       "      <th>Distance_mi</th>\n",
       "      <th>Elevation Gain_ft</th>\n",
       "      <th>Difficulty</th>\n",
       "      <th>Traffic Low</th>\n",
       "      <th>Traffic High</th>\n",
       "      <th>photo</th>\n",
       "    </tr>\n",
       "  </thead>\n",
       "  <tbody>\n",
       "    <tr>\n",
       "      <th>0</th>\n",
       "      <td>1</td>\n",
       "      <td>Mount Elbert</td>\n",
       "      <td>Sawatch Range</td>\n",
       "      <td>14440</td>\n",
       "      <td>Y</td>\n",
       "      <td>9093</td>\n",
       "      <td>670.00</td>\n",
       "      <td>39.1178</td>\n",
       "      <td>-106.4454</td>\n",
       "      <td>Northeast Ridge</td>\n",
       "      <td>9.50</td>\n",
       "      <td>4700</td>\n",
       "      <td>Class 1</td>\n",
       "      <td>20000</td>\n",
       "      <td>25000</td>\n",
       "      <td>https://www.14ers.com/photos/mtelbert/peakphot...</td>\n",
       "    </tr>\n",
       "    <tr>\n",
       "      <th>1</th>\n",
       "      <td>2</td>\n",
       "      <td>Mount Massive</td>\n",
       "      <td>Sawatch Range</td>\n",
       "      <td>14428</td>\n",
       "      <td>Y</td>\n",
       "      <td>1961</td>\n",
       "      <td>5.06</td>\n",
       "      <td>39.1875</td>\n",
       "      <td>-106.4757</td>\n",
       "      <td>East Slopes</td>\n",
       "      <td>14.50</td>\n",
       "      <td>4500</td>\n",
       "      <td>Class 2</td>\n",
       "      <td>7000</td>\n",
       "      <td>10000</td>\n",
       "      <td>https://www.14ers.com/photos/mtmassive/peakpho...</td>\n",
       "    </tr>\n",
       "    <tr>\n",
       "      <th>2</th>\n",
       "      <td>3</td>\n",
       "      <td>Mount Harvard</td>\n",
       "      <td>Sawatch Range</td>\n",
       "      <td>14421</td>\n",
       "      <td>Y</td>\n",
       "      <td>2360</td>\n",
       "      <td>14.93</td>\n",
       "      <td>38.9244</td>\n",
       "      <td>-106.3207</td>\n",
       "      <td>South Slopes</td>\n",
       "      <td>14.00</td>\n",
       "      <td>4600</td>\n",
       "      <td>Class 2</td>\n",
       "      <td>5000</td>\n",
       "      <td>7000</td>\n",
       "      <td>https://www.14ers.com/photos/harvardgroup/peak...</td>\n",
       "    </tr>\n",
       "    <tr>\n",
       "      <th>3</th>\n",
       "      <td>4</td>\n",
       "      <td>Blanca Peak</td>\n",
       "      <td>Sangre de Cristo Range</td>\n",
       "      <td>14351</td>\n",
       "      <td>Y</td>\n",
       "      <td>5326</td>\n",
       "      <td>103.40</td>\n",
       "      <td>37.5775</td>\n",
       "      <td>-105.4856</td>\n",
       "      <td>Northwest Ridge</td>\n",
       "      <td>17.00</td>\n",
       "      <td>6500</td>\n",
       "      <td>Hard Class 2</td>\n",
       "      <td>1000</td>\n",
       "      <td>3000</td>\n",
       "      <td>https://www.14ers.com/photos/blancagroup/peakp...</td>\n",
       "    </tr>\n",
       "    <tr>\n",
       "      <th>4</th>\n",
       "      <td>5</td>\n",
       "      <td>La Plata Peak</td>\n",
       "      <td>Sawatch Range</td>\n",
       "      <td>14343</td>\n",
       "      <td>Y</td>\n",
       "      <td>1836</td>\n",
       "      <td>6.28</td>\n",
       "      <td>39.0294</td>\n",
       "      <td>-106.4729</td>\n",
       "      <td>Northwest Ridge</td>\n",
       "      <td>9.25</td>\n",
       "      <td>4500</td>\n",
       "      <td>Class 2</td>\n",
       "      <td>5000</td>\n",
       "      <td>7000</td>\n",
       "      <td>https://www.14ers.com/photos/laplatapeak/peakp...</td>\n",
       "    </tr>\n",
       "    <tr>\n",
       "      <th>5</th>\n",
       "      <td>6</td>\n",
       "      <td>Uncompahgre Peak</td>\n",
       "      <td>San Juan Mountains</td>\n",
       "      <td>14321</td>\n",
       "      <td>Y</td>\n",
       "      <td>4277</td>\n",
       "      <td>85.10</td>\n",
       "      <td>38.0717</td>\n",
       "      <td>-107.4621</td>\n",
       "      <td>South Ridge</td>\n",
       "      <td>7.50</td>\n",
       "      <td>3000</td>\n",
       "      <td>Class 2</td>\n",
       "      <td>3000</td>\n",
       "      <td>5000</td>\n",
       "      <td>https://www.14ers.com/photos/uncompahgrepeak/p...</td>\n",
       "    </tr>\n",
       "    <tr>\n",
       "      <th>6</th>\n",
       "      <td>7</td>\n",
       "      <td>Crestone Peak</td>\n",
       "      <td>Sangre de Cristo Range</td>\n",
       "      <td>14300</td>\n",
       "      <td>Y</td>\n",
       "      <td>4554</td>\n",
       "      <td>27.40</td>\n",
       "      <td>37.9669</td>\n",
       "      <td>-105.5855</td>\n",
       "      <td>South Face</td>\n",
       "      <td>14.00</td>\n",
       "      <td>5700</td>\n",
       "      <td>Class 3</td>\n",
       "      <td>1000</td>\n",
       "      <td>3000</td>\n",
       "      <td>https://www.14ers.com/photos/crestonegroup/pea...</td>\n",
       "    </tr>\n",
       "    <tr>\n",
       "      <th>7</th>\n",
       "      <td>8</td>\n",
       "      <td>Mount Lincoln</td>\n",
       "      <td>Mosquito Range</td>\n",
       "      <td>14293</td>\n",
       "      <td>Y</td>\n",
       "      <td>3862</td>\n",
       "      <td>22.60</td>\n",
       "      <td>39.3515</td>\n",
       "      <td>-106.1116</td>\n",
       "      <td>West Ridge</td>\n",
       "      <td>6.00</td>\n",
       "      <td>2600</td>\n",
       "      <td>Class 2</td>\n",
       "      <td>15000</td>\n",
       "      <td>20000</td>\n",
       "      <td>https://www.14ers.com/photos/lincolngroup/peak...</td>\n",
       "    </tr>\n",
       "    <tr>\n",
       "      <th>8</th>\n",
       "      <td>9</td>\n",
       "      <td>Castle Peak</td>\n",
       "      <td>Elk Mountains</td>\n",
       "      <td>14279</td>\n",
       "      <td>Y</td>\n",
       "      <td>2365</td>\n",
       "      <td>20.90</td>\n",
       "      <td>39.0097</td>\n",
       "      <td>-106.8614</td>\n",
       "      <td>Northeast Ridge</td>\n",
       "      <td>13.50</td>\n",
       "      <td>4600</td>\n",
       "      <td>Hard Class 2</td>\n",
       "      <td>1000</td>\n",
       "      <td>3000</td>\n",
       "      <td>https://www.14ers.com/photos/castlegroup/peakp...</td>\n",
       "    </tr>\n",
       "    <tr>\n",
       "      <th>9</th>\n",
       "      <td>10</td>\n",
       "      <td>Grays Peak</td>\n",
       "      <td>Front Range</td>\n",
       "      <td>14278</td>\n",
       "      <td>Y</td>\n",
       "      <td>2770</td>\n",
       "      <td>25.00</td>\n",
       "      <td>39.6339</td>\n",
       "      <td>-105.8176</td>\n",
       "      <td>North Slopes</td>\n",
       "      <td>8.00</td>\n",
       "      <td>3000</td>\n",
       "      <td>Class 1</td>\n",
       "      <td>25000</td>\n",
       "      <td>30000</td>\n",
       "      <td>https://www.14ers.com/photos/graystorreys/peak...</td>\n",
       "    </tr>\n",
       "  </tbody>\n",
       "</table>\n",
       "</div>"
      ],
      "text/plain": [
       "   ID     Mountain Peak          Mountain Range  Elevation_ft fourteener  \\\n",
       "0   1      Mount Elbert           Sawatch Range         14440          Y   \n",
       "1   2     Mount Massive           Sawatch Range         14428          Y   \n",
       "2   3     Mount Harvard           Sawatch Range         14421          Y   \n",
       "3   4       Blanca Peak  Sangre de Cristo Range         14351          Y   \n",
       "4   5     La Plata Peak           Sawatch Range         14343          Y   \n",
       "5   6  Uncompahgre Peak      San Juan Mountains         14321          Y   \n",
       "6   7     Crestone Peak  Sangre de Cristo Range         14300          Y   \n",
       "7   8     Mount Lincoln          Mosquito Range         14293          Y   \n",
       "8   9       Castle Peak           Elk Mountains         14279          Y   \n",
       "9  10        Grays Peak             Front Range         14278          Y   \n",
       "\n",
       "   Prominence_ft  Isolation_mi      Lat      Long    Standard Route  \\\n",
       "0           9093        670.00  39.1178 -106.4454  Northeast Ridge    \n",
       "1           1961          5.06  39.1875 -106.4757      East Slopes    \n",
       "2           2360         14.93  38.9244 -106.3207     South Slopes    \n",
       "3           5326        103.40  37.5775 -105.4856  Northwest Ridge    \n",
       "4           1836          6.28  39.0294 -106.4729  Northwest Ridge    \n",
       "5           4277         85.10  38.0717 -107.4621      South Ridge    \n",
       "6           4554         27.40  37.9669 -105.5855       South Face    \n",
       "7           3862         22.60  39.3515 -106.1116       West Ridge    \n",
       "8           2365         20.90  39.0097 -106.8614  Northeast Ridge    \n",
       "9           2770         25.00  39.6339 -105.8176     North Slopes    \n",
       "\n",
       "   Distance_mi  Elevation Gain_ft    Difficulty  Traffic Low  Traffic High  \\\n",
       "0         9.50               4700       Class 1        20000         25000   \n",
       "1        14.50               4500       Class 2         7000         10000   \n",
       "2        14.00               4600       Class 2         5000          7000   \n",
       "3        17.00               6500  Hard Class 2         1000          3000   \n",
       "4         9.25               4500       Class 2         5000          7000   \n",
       "5         7.50               3000       Class 2         3000          5000   \n",
       "6        14.00               5700       Class 3         1000          3000   \n",
       "7         6.00               2600       Class 2        15000         20000   \n",
       "8        13.50               4600  Hard Class 2         1000          3000   \n",
       "9         8.00               3000       Class 1        25000         30000   \n",
       "\n",
       "                                               photo  \n",
       "0  https://www.14ers.com/photos/mtelbert/peakphot...  \n",
       "1  https://www.14ers.com/photos/mtmassive/peakpho...  \n",
       "2  https://www.14ers.com/photos/harvardgroup/peak...  \n",
       "3  https://www.14ers.com/photos/blancagroup/peakp...  \n",
       "4  https://www.14ers.com/photos/laplatapeak/peakp...  \n",
       "5  https://www.14ers.com/photos/uncompahgrepeak/p...  \n",
       "6  https://www.14ers.com/photos/crestonegroup/pea...  \n",
       "7  https://www.14ers.com/photos/lincolngroup/peak...  \n",
       "8  https://www.14ers.com/photos/castlegroup/peakp...  \n",
       "9  https://www.14ers.com/photos/graystorreys/peak...  "
      ]
     },
     "execution_count": 218,
     "metadata": {},
     "output_type": "execute_result"
    }
   ],
   "source": [
    "all_peaks = pd.read_csv('14er.csv', encoding='latin-1')\n",
    "all_peaks.head(10)"
   ]
  },
  {
   "cell_type": "markdown",
   "id": "b889cb6f-6eee-4d6e-9062-ebd95e24c00c",
   "metadata": {},
   "source": [
    "#### Content:\n",
    "\n",
    "There are 58 rows (plus a header) of data, each representing a mountain peak. There are fifteen variables describing each peak.\n",
    "\n",
    "- ID – A unique Identifier for each row\n",
    "- Mountain Peak – The name of the peak\n",
    "- Mountain Range – the name of the primary mountain range the peak is a member of\n",
    "- Elevation_ft – The peak elevation in feet\n",
    "- Fourteener – An indicator if the peak is considered a fourteener and includes a value of Y or N\n",
    "- Prominence_ft – How much higher the peak is in feet from the next highest point\n",
    "- Isolation_mi – the distance in miles from the nearest point of the same or higher elevation\n",
    "- Lat - The latitudinal coordinate in decimal form\n",
    "- Long - The longitudinal coordinate in decimal form\n",
    "- Standard Route – the name of the most commonly used hiking/climbing route to the peak\n",
    "- Distance_mi – The distance of the standard route in miles\n",
    "- Elevation Gain_ft – The elevation gain of the standard route in feet\n",
    "- Difficulty – The Yosemite Decimal System difficulty rating, a value ranging from Class 1 (easiest) to Class 5 (most difficult)\n",
    "- Traffic Low – The low range of estimated visits in the year 2017\n",
    "- Traffic High – The high range of estimated visits in the year 2017\n",
    "- photo – A URL to a photo of the peak\n"
   ]
  },
  {
   "cell_type": "markdown",
   "id": "8036bb0a-d6c8-45d4-b50e-fc343634b05c",
   "metadata": {},
   "source": [
    "#### Preparing the Data:\n",
    "As five of the peaks in the dataset, do not meet the prominence rule for the Colorado fourteeners, another dataframe will be created without these five peaks for use in the analysis:"
   ]
  },
  {
   "cell_type": "code",
   "execution_count": 368,
   "id": "400f3eb6-414a-4120-8863-c698e9a7527b",
   "metadata": {},
   "outputs": [
    {
     "data": {
      "text/html": [
       "<div>\n",
       "<style scoped>\n",
       "    .dataframe tbody tr th:only-of-type {\n",
       "        vertical-align: middle;\n",
       "    }\n",
       "\n",
       "    .dataframe tbody tr th {\n",
       "        vertical-align: top;\n",
       "    }\n",
       "\n",
       "    .dataframe thead th {\n",
       "        text-align: right;\n",
       "    }\n",
       "</style>\n",
       "<table border=\"1\" class=\"dataframe\">\n",
       "  <thead>\n",
       "    <tr style=\"text-align: right;\">\n",
       "      <th></th>\n",
       "      <th>ID</th>\n",
       "      <th>Mountain Peak</th>\n",
       "      <th>Mountain Range</th>\n",
       "      <th>Elevation_ft</th>\n",
       "      <th>fourteener</th>\n",
       "      <th>Prominence_ft</th>\n",
       "      <th>Isolation_mi</th>\n",
       "      <th>Lat</th>\n",
       "      <th>Long</th>\n",
       "      <th>Standard Route</th>\n",
       "      <th>Distance_mi</th>\n",
       "      <th>Elevation Gain_ft</th>\n",
       "      <th>Difficulty</th>\n",
       "      <th>Traffic Low</th>\n",
       "      <th>Traffic High</th>\n",
       "      <th>photo</th>\n",
       "    </tr>\n",
       "  </thead>\n",
       "  <tbody>\n",
       "    <tr>\n",
       "      <th>0</th>\n",
       "      <td>1</td>\n",
       "      <td>Mount Elbert</td>\n",
       "      <td>Sawatch Range</td>\n",
       "      <td>14440</td>\n",
       "      <td>Y</td>\n",
       "      <td>9093</td>\n",
       "      <td>670.00</td>\n",
       "      <td>39.1178</td>\n",
       "      <td>-106.4454</td>\n",
       "      <td>Northeast Ridge</td>\n",
       "      <td>9.50</td>\n",
       "      <td>4700</td>\n",
       "      <td>Class 1</td>\n",
       "      <td>20000</td>\n",
       "      <td>25000</td>\n",
       "      <td>https://www.14ers.com/photos/mtelbert/peakphot...</td>\n",
       "    </tr>\n",
       "    <tr>\n",
       "      <th>1</th>\n",
       "      <td>2</td>\n",
       "      <td>Mount Massive</td>\n",
       "      <td>Sawatch Range</td>\n",
       "      <td>14428</td>\n",
       "      <td>Y</td>\n",
       "      <td>1961</td>\n",
       "      <td>5.06</td>\n",
       "      <td>39.1875</td>\n",
       "      <td>-106.4757</td>\n",
       "      <td>East Slopes</td>\n",
       "      <td>14.50</td>\n",
       "      <td>4500</td>\n",
       "      <td>Class 2</td>\n",
       "      <td>7000</td>\n",
       "      <td>10000</td>\n",
       "      <td>https://www.14ers.com/photos/mtmassive/peakpho...</td>\n",
       "    </tr>\n",
       "    <tr>\n",
       "      <th>2</th>\n",
       "      <td>3</td>\n",
       "      <td>Mount Harvard</td>\n",
       "      <td>Sawatch Range</td>\n",
       "      <td>14421</td>\n",
       "      <td>Y</td>\n",
       "      <td>2360</td>\n",
       "      <td>14.93</td>\n",
       "      <td>38.9244</td>\n",
       "      <td>-106.3207</td>\n",
       "      <td>South Slopes</td>\n",
       "      <td>14.00</td>\n",
       "      <td>4600</td>\n",
       "      <td>Class 2</td>\n",
       "      <td>5000</td>\n",
       "      <td>7000</td>\n",
       "      <td>https://www.14ers.com/photos/harvardgroup/peak...</td>\n",
       "    </tr>\n",
       "    <tr>\n",
       "      <th>3</th>\n",
       "      <td>4</td>\n",
       "      <td>Blanca Peak</td>\n",
       "      <td>Sangre de Cristo Range</td>\n",
       "      <td>14351</td>\n",
       "      <td>Y</td>\n",
       "      <td>5326</td>\n",
       "      <td>103.40</td>\n",
       "      <td>37.5775</td>\n",
       "      <td>-105.4856</td>\n",
       "      <td>Northwest Ridge</td>\n",
       "      <td>17.00</td>\n",
       "      <td>6500</td>\n",
       "      <td>Hard Class 2</td>\n",
       "      <td>1000</td>\n",
       "      <td>3000</td>\n",
       "      <td>https://www.14ers.com/photos/blancagroup/peakp...</td>\n",
       "    </tr>\n",
       "    <tr>\n",
       "      <th>4</th>\n",
       "      <td>5</td>\n",
       "      <td>La Plata Peak</td>\n",
       "      <td>Sawatch Range</td>\n",
       "      <td>14343</td>\n",
       "      <td>Y</td>\n",
       "      <td>1836</td>\n",
       "      <td>6.28</td>\n",
       "      <td>39.0294</td>\n",
       "      <td>-106.4729</td>\n",
       "      <td>Northwest Ridge</td>\n",
       "      <td>9.25</td>\n",
       "      <td>4500</td>\n",
       "      <td>Class 2</td>\n",
       "      <td>5000</td>\n",
       "      <td>7000</td>\n",
       "      <td>https://www.14ers.com/photos/laplatapeak/peakp...</td>\n",
       "    </tr>\n",
       "  </tbody>\n",
       "</table>\n",
       "</div>"
      ],
      "text/plain": [
       "   ID  Mountain Peak          Mountain Range  Elevation_ft fourteener  \\\n",
       "0   1   Mount Elbert           Sawatch Range         14440          Y   \n",
       "1   2  Mount Massive           Sawatch Range         14428          Y   \n",
       "2   3  Mount Harvard           Sawatch Range         14421          Y   \n",
       "3   4    Blanca Peak  Sangre de Cristo Range         14351          Y   \n",
       "4   5  La Plata Peak           Sawatch Range         14343          Y   \n",
       "\n",
       "   Prominence_ft  Isolation_mi      Lat      Long    Standard Route  \\\n",
       "0           9093        670.00  39.1178 -106.4454  Northeast Ridge    \n",
       "1           1961          5.06  39.1875 -106.4757      East Slopes    \n",
       "2           2360         14.93  38.9244 -106.3207     South Slopes    \n",
       "3           5326        103.40  37.5775 -105.4856  Northwest Ridge    \n",
       "4           1836          6.28  39.0294 -106.4729  Northwest Ridge    \n",
       "\n",
       "   Distance_mi  Elevation Gain_ft    Difficulty  Traffic Low  Traffic High  \\\n",
       "0         9.50               4700       Class 1        20000         25000   \n",
       "1        14.50               4500       Class 2         7000         10000   \n",
       "2        14.00               4600       Class 2         5000          7000   \n",
       "3        17.00               6500  Hard Class 2         1000          3000   \n",
       "4         9.25               4500       Class 2         5000          7000   \n",
       "\n",
       "                                               photo  \n",
       "0  https://www.14ers.com/photos/mtelbert/peakphot...  \n",
       "1  https://www.14ers.com/photos/mtmassive/peakpho...  \n",
       "2  https://www.14ers.com/photos/harvardgroup/peak...  \n",
       "3  https://www.14ers.com/photos/blancagroup/peakp...  \n",
       "4  https://www.14ers.com/photos/laplatapeak/peakp...  "
      ]
     },
     "execution_count": 368,
     "metadata": {},
     "output_type": "execute_result"
    }
   ],
   "source": [
    "# Remove peaks that do not qualify as fourteeners and create new dataframe\n",
    "fourteeners = all_peaks[all_peaks['fourteener'] == 'Y']\n",
    "fourteeners.head()"
   ]
  },
  {
   "cell_type": "markdown",
   "id": "60e86baf-af4a-4135-8021-100d886848d1",
   "metadata": {},
   "source": [
    "For analysis purposes, we will compare elevation, elevation gain, distance, isolation or difficulty for each peak to the value labeled as 'Traffic Median' as a quantitative value for the number of visits for each of the fourteeners. The column 'Traffic Median' will be calculated as the median value of 'Traffic Low' and 'Traffic High', the low and high range, respectively, of estimated visits in the year 2017. The median value should give a reasonable estimate for analysis purposes."
   ]
  },
  {
   "cell_type": "code",
   "execution_count": 372,
   "id": "a07c76aa-e055-44cc-b945-60d779716eb0",
   "metadata": {},
   "outputs": [
    {
     "data": {
      "text/html": [
       "<div>\n",
       "<style scoped>\n",
       "    .dataframe tbody tr th:only-of-type {\n",
       "        vertical-align: middle;\n",
       "    }\n",
       "\n",
       "    .dataframe tbody tr th {\n",
       "        vertical-align: top;\n",
       "    }\n",
       "\n",
       "    .dataframe thead th {\n",
       "        text-align: right;\n",
       "    }\n",
       "</style>\n",
       "<table border=\"1\" class=\"dataframe\">\n",
       "  <thead>\n",
       "    <tr style=\"text-align: right;\">\n",
       "      <th></th>\n",
       "      <th>ID</th>\n",
       "      <th>Mountain Peak</th>\n",
       "      <th>Mountain Range</th>\n",
       "      <th>Elevation_ft</th>\n",
       "      <th>fourteener</th>\n",
       "      <th>Prominence_ft</th>\n",
       "      <th>Isolation_mi</th>\n",
       "      <th>Lat</th>\n",
       "      <th>Long</th>\n",
       "      <th>Standard Route</th>\n",
       "      <th>Distance_mi</th>\n",
       "      <th>Elevation Gain_ft</th>\n",
       "      <th>Difficulty</th>\n",
       "      <th>Traffic Low</th>\n",
       "      <th>Traffic High</th>\n",
       "      <th>photo</th>\n",
       "      <th>Traffic Median</th>\n",
       "    </tr>\n",
       "  </thead>\n",
       "  <tbody>\n",
       "    <tr>\n",
       "      <th>0</th>\n",
       "      <td>1</td>\n",
       "      <td>Mount Elbert</td>\n",
       "      <td>Sawatch Range</td>\n",
       "      <td>14440</td>\n",
       "      <td>Y</td>\n",
       "      <td>9093</td>\n",
       "      <td>670.00</td>\n",
       "      <td>39.1178</td>\n",
       "      <td>-106.4454</td>\n",
       "      <td>Northeast Ridge</td>\n",
       "      <td>9.50</td>\n",
       "      <td>4700</td>\n",
       "      <td>Class 1</td>\n",
       "      <td>20000</td>\n",
       "      <td>25000</td>\n",
       "      <td>https://www.14ers.com/photos/mtelbert/peakphot...</td>\n",
       "      <td>22500.0</td>\n",
       "    </tr>\n",
       "    <tr>\n",
       "      <th>1</th>\n",
       "      <td>2</td>\n",
       "      <td>Mount Massive</td>\n",
       "      <td>Sawatch Range</td>\n",
       "      <td>14428</td>\n",
       "      <td>Y</td>\n",
       "      <td>1961</td>\n",
       "      <td>5.06</td>\n",
       "      <td>39.1875</td>\n",
       "      <td>-106.4757</td>\n",
       "      <td>East Slopes</td>\n",
       "      <td>14.50</td>\n",
       "      <td>4500</td>\n",
       "      <td>Class 2</td>\n",
       "      <td>7000</td>\n",
       "      <td>10000</td>\n",
       "      <td>https://www.14ers.com/photos/mtmassive/peakpho...</td>\n",
       "      <td>8500.0</td>\n",
       "    </tr>\n",
       "    <tr>\n",
       "      <th>2</th>\n",
       "      <td>3</td>\n",
       "      <td>Mount Harvard</td>\n",
       "      <td>Sawatch Range</td>\n",
       "      <td>14421</td>\n",
       "      <td>Y</td>\n",
       "      <td>2360</td>\n",
       "      <td>14.93</td>\n",
       "      <td>38.9244</td>\n",
       "      <td>-106.3207</td>\n",
       "      <td>South Slopes</td>\n",
       "      <td>14.00</td>\n",
       "      <td>4600</td>\n",
       "      <td>Class 2</td>\n",
       "      <td>5000</td>\n",
       "      <td>7000</td>\n",
       "      <td>https://www.14ers.com/photos/harvardgroup/peak...</td>\n",
       "      <td>6000.0</td>\n",
       "    </tr>\n",
       "    <tr>\n",
       "      <th>3</th>\n",
       "      <td>4</td>\n",
       "      <td>Blanca Peak</td>\n",
       "      <td>Sangre de Cristo Range</td>\n",
       "      <td>14351</td>\n",
       "      <td>Y</td>\n",
       "      <td>5326</td>\n",
       "      <td>103.40</td>\n",
       "      <td>37.5775</td>\n",
       "      <td>-105.4856</td>\n",
       "      <td>Northwest Ridge</td>\n",
       "      <td>17.00</td>\n",
       "      <td>6500</td>\n",
       "      <td>Hard Class 2</td>\n",
       "      <td>1000</td>\n",
       "      <td>3000</td>\n",
       "      <td>https://www.14ers.com/photos/blancagroup/peakp...</td>\n",
       "      <td>2000.0</td>\n",
       "    </tr>\n",
       "    <tr>\n",
       "      <th>4</th>\n",
       "      <td>5</td>\n",
       "      <td>La Plata Peak</td>\n",
       "      <td>Sawatch Range</td>\n",
       "      <td>14343</td>\n",
       "      <td>Y</td>\n",
       "      <td>1836</td>\n",
       "      <td>6.28</td>\n",
       "      <td>39.0294</td>\n",
       "      <td>-106.4729</td>\n",
       "      <td>Northwest Ridge</td>\n",
       "      <td>9.25</td>\n",
       "      <td>4500</td>\n",
       "      <td>Class 2</td>\n",
       "      <td>5000</td>\n",
       "      <td>7000</td>\n",
       "      <td>https://www.14ers.com/photos/laplatapeak/peakp...</td>\n",
       "      <td>6000.0</td>\n",
       "    </tr>\n",
       "  </tbody>\n",
       "</table>\n",
       "</div>"
      ],
      "text/plain": [
       "   ID  Mountain Peak          Mountain Range  Elevation_ft fourteener  \\\n",
       "0   1   Mount Elbert           Sawatch Range         14440          Y   \n",
       "1   2  Mount Massive           Sawatch Range         14428          Y   \n",
       "2   3  Mount Harvard           Sawatch Range         14421          Y   \n",
       "3   4    Blanca Peak  Sangre de Cristo Range         14351          Y   \n",
       "4   5  La Plata Peak           Sawatch Range         14343          Y   \n",
       "\n",
       "   Prominence_ft  Isolation_mi      Lat      Long    Standard Route  \\\n",
       "0           9093        670.00  39.1178 -106.4454  Northeast Ridge    \n",
       "1           1961          5.06  39.1875 -106.4757      East Slopes    \n",
       "2           2360         14.93  38.9244 -106.3207     South Slopes    \n",
       "3           5326        103.40  37.5775 -105.4856  Northwest Ridge    \n",
       "4           1836          6.28  39.0294 -106.4729  Northwest Ridge    \n",
       "\n",
       "   Distance_mi  Elevation Gain_ft    Difficulty  Traffic Low  Traffic High  \\\n",
       "0         9.50               4700       Class 1        20000         25000   \n",
       "1        14.50               4500       Class 2         7000         10000   \n",
       "2        14.00               4600       Class 2         5000          7000   \n",
       "3        17.00               6500  Hard Class 2         1000          3000   \n",
       "4         9.25               4500       Class 2         5000          7000   \n",
       "\n",
       "                                               photo  Traffic Median  \n",
       "0  https://www.14ers.com/photos/mtelbert/peakphot...         22500.0  \n",
       "1  https://www.14ers.com/photos/mtmassive/peakpho...          8500.0  \n",
       "2  https://www.14ers.com/photos/harvardgroup/peak...          6000.0  \n",
       "3  https://www.14ers.com/photos/blancagroup/peakp...          2000.0  \n",
       "4  https://www.14ers.com/photos/laplatapeak/peakp...          6000.0  "
      ]
     },
     "execution_count": 372,
     "metadata": {},
     "output_type": "execute_result"
    }
   ],
   "source": [
    "# Function to find the median of the Traffic High and Traffic Low columns\n",
    "def find_median(dataframe, column_1, column_2):\n",
    "    i=0\n",
    "    for i in range(len(dataframe)):\n",
    "        median = 1.0*(dataframe.loc[i, column_1] + dataframe.loc[i, column_2])/2\n",
    "        dataframe.loc[i,'Traffic Median'] = median\n",
    "        i += 1\n",
    "    return dataframe.head()\n",
    "\n",
    "\n",
    "find_median(fourteeners, 'Traffic High', 'Traffic Low')"
   ]
  },
  {
   "cell_type": "markdown",
   "id": "42709be0-2776-4749-8a38-fce7ac192d67",
   "metadata": {},
   "source": [
    "-----\n",
    "## Analysis"
   ]
  },
  {
   "cell_type": "code",
   "execution_count": 225,
   "id": "893d5d5f-7cef-45c9-a202-09175c619109",
   "metadata": {},
   "outputs": [
    {
     "data": {
      "image/png": "[encoded data removed]",
      "text/plain": [
       "<Figure size 640x480 with 1 Axes>"
      ]
     },
     "metadata": {},
     "output_type": "display_data"
    }
   ],
   "source": [
    "plt.hist(fourteeners['Elevation_ft'], color = 'slategray')\n",
    "plt.title('Elevation of the Colorado Fourteeners')\n",
    "plt.xlabel('Elevation')\n",
    "plt.ylabel('Frequency')\n",
    "plt.show()"
   ]
  },
  {
   "cell_type": "markdown",
   "id": "93bbcee6-1c03-4c7b-ad44-30239038778a",
   "metadata": {},
   "source": [
    "The distribution of elevation across the peaks is right skewed meaning a large proportion of peaks are on the smaller end of the spectrum."
   ]
  },
  {
   "cell_type": "code",
   "execution_count": 226,
   "id": "5dc2f599-2dc2-4a86-9416-59ef217a29e6",
   "metadata": {},
   "outputs": [
    {
     "data": {
      "text/html": [
       "<div>\n",
       "<style scoped>\n",
       "    .dataframe tbody tr th:only-of-type {\n",
       "        vertical-align: middle;\n",
       "    }\n",
       "\n",
       "    .dataframe tbody tr th {\n",
       "        vertical-align: top;\n",
       "    }\n",
       "\n",
       "    .dataframe thead th {\n",
       "        text-align: right;\n",
       "    }\n",
       "</style>\n",
       "<table border=\"1\" class=\"dataframe\">\n",
       "  <thead>\n",
       "    <tr style=\"text-align: right;\">\n",
       "      <th></th>\n",
       "      <th>ID</th>\n",
       "      <th>Mountain Peak</th>\n",
       "      <th>Mountain Range</th>\n",
       "      <th>Elevation_ft</th>\n",
       "      <th>fourteener</th>\n",
       "      <th>Prominence_ft</th>\n",
       "      <th>Isolation_mi</th>\n",
       "      <th>Lat</th>\n",
       "      <th>Long</th>\n",
       "      <th>Standard Route</th>\n",
       "      <th>Distance_mi</th>\n",
       "      <th>Elevation Gain_ft</th>\n",
       "      <th>Difficulty</th>\n",
       "      <th>Traffic Low</th>\n",
       "      <th>Traffic High</th>\n",
       "      <th>photo</th>\n",
       "      <th>Traffic Median</th>\n",
       "    </tr>\n",
       "  </thead>\n",
       "  <tbody>\n",
       "    <tr>\n",
       "      <th>0</th>\n",
       "      <td>1</td>\n",
       "      <td>Mount Elbert</td>\n",
       "      <td>Sawatch Range</td>\n",
       "      <td>14440</td>\n",
       "      <td>Y</td>\n",
       "      <td>9093</td>\n",
       "      <td>670.00</td>\n",
       "      <td>39.1178</td>\n",
       "      <td>-106.4454</td>\n",
       "      <td>Northeast Ridge</td>\n",
       "      <td>9.50</td>\n",
       "      <td>4700</td>\n",
       "      <td>Class 1</td>\n",
       "      <td>20000</td>\n",
       "      <td>25000</td>\n",
       "      <td>https://www.14ers.com/photos/mtelbert/peakphot...</td>\n",
       "      <td>22500.0</td>\n",
       "    </tr>\n",
       "    <tr>\n",
       "      <th>9</th>\n",
       "      <td>10</td>\n",
       "      <td>Grays Peak</td>\n",
       "      <td>Front Range</td>\n",
       "      <td>14278</td>\n",
       "      <td>Y</td>\n",
       "      <td>2770</td>\n",
       "      <td>25.00</td>\n",
       "      <td>39.6339</td>\n",
       "      <td>-105.8176</td>\n",
       "      <td>North Slopes</td>\n",
       "      <td>8.00</td>\n",
       "      <td>3000</td>\n",
       "      <td>Class 1</td>\n",
       "      <td>25000</td>\n",
       "      <td>30000</td>\n",
       "      <td>https://www.14ers.com/photos/graystorreys/peak...</td>\n",
       "      <td>27500.0</td>\n",
       "    </tr>\n",
       "    <tr>\n",
       "      <th>11</th>\n",
       "      <td>12</td>\n",
       "      <td>Torreys Peak</td>\n",
       "      <td>Front Range</td>\n",
       "      <td>14275</td>\n",
       "      <td>Y</td>\n",
       "      <td>560</td>\n",
       "      <td>0.65</td>\n",
       "      <td>39.6428</td>\n",
       "      <td>-105.8212</td>\n",
       "      <td>South Slopes</td>\n",
       "      <td>8.00</td>\n",
       "      <td>3000</td>\n",
       "      <td>Class 2</td>\n",
       "      <td>25000</td>\n",
       "      <td>30000</td>\n",
       "      <td>https://www.14ers.com/photos/graystorreys/peak...</td>\n",
       "      <td>27500.0</td>\n",
       "    </tr>\n",
       "    <tr>\n",
       "      <th>12</th>\n",
       "      <td>13</td>\n",
       "      <td>Quandary Peak</td>\n",
       "      <td>Mosquito Range</td>\n",
       "      <td>14271</td>\n",
       "      <td>Y</td>\n",
       "      <td>1125</td>\n",
       "      <td>3.16</td>\n",
       "      <td>39.3973</td>\n",
       "      <td>-106.1064</td>\n",
       "      <td>East Ridge</td>\n",
       "      <td>6.75</td>\n",
       "      <td>3450</td>\n",
       "      <td>Class 1</td>\n",
       "      <td>20000</td>\n",
       "      <td>25000</td>\n",
       "      <td>https://www.14ers.com/photos/quandarypeak/peak...</td>\n",
       "      <td>22500.0</td>\n",
       "    </tr>\n",
       "    <tr>\n",
       "      <th>37</th>\n",
       "      <td>38</td>\n",
       "      <td>Mount Bierstadt</td>\n",
       "      <td>Front Range</td>\n",
       "      <td>14065</td>\n",
       "      <td>Y</td>\n",
       "      <td>720</td>\n",
       "      <td>1.12</td>\n",
       "      <td>39.5826</td>\n",
       "      <td>-105.6688</td>\n",
       "      <td>West Slopes</td>\n",
       "      <td>7.00</td>\n",
       "      <td>2850</td>\n",
       "      <td>Class 2</td>\n",
       "      <td>35000</td>\n",
       "      <td>40000</td>\n",
       "      <td>https://www.14ers.com/photos/evansgroup/peakph...</td>\n",
       "      <td>37500.0</td>\n",
       "    </tr>\n",
       "    <tr>\n",
       "      <th>44</th>\n",
       "      <td>45</td>\n",
       "      <td>Mount Sherman</td>\n",
       "      <td>Mosquito Range</td>\n",
       "      <td>14043</td>\n",
       "      <td>Y</td>\n",
       "      <td>850</td>\n",
       "      <td>8.06</td>\n",
       "      <td>39.2250</td>\n",
       "      <td>-106.1699</td>\n",
       "      <td>Southwest Ridge</td>\n",
       "      <td>5.25</td>\n",
       "      <td>2100</td>\n",
       "      <td>Class 2</td>\n",
       "      <td>20000</td>\n",
       "      <td>25000</td>\n",
       "      <td>https://www.14ers.com/photos/mtsherman/peakpho...</td>\n",
       "      <td>22500.0</td>\n",
       "    </tr>\n",
       "  </tbody>\n",
       "</table>\n",
       "</div>"
      ],
      "text/plain": [
       "    ID    Mountain Peak  Mountain Range  Elevation_ft fourteener  \\\n",
       "0    1     Mount Elbert   Sawatch Range         14440          Y   \n",
       "9   10       Grays Peak     Front Range         14278          Y   \n",
       "11  12     Torreys Peak     Front Range         14275          Y   \n",
       "12  13    Quandary Peak  Mosquito Range         14271          Y   \n",
       "37  38  Mount Bierstadt     Front Range         14065          Y   \n",
       "44  45    Mount Sherman  Mosquito Range         14043          Y   \n",
       "\n",
       "    Prominence_ft  Isolation_mi      Lat      Long    Standard Route  \\\n",
       "0            9093        670.00  39.1178 -106.4454  Northeast Ridge    \n",
       "9            2770         25.00  39.6339 -105.8176     North Slopes    \n",
       "11            560          0.65  39.6428 -105.8212     South Slopes    \n",
       "12           1125          3.16  39.3973 -106.1064       East Ridge    \n",
       "37            720          1.12  39.5826 -105.6688      West Slopes    \n",
       "44            850          8.06  39.2250 -106.1699  Southwest Ridge    \n",
       "\n",
       "    Distance_mi  Elevation Gain_ft Difficulty  Traffic Low  Traffic High  \\\n",
       "0          9.50               4700    Class 1        20000         25000   \n",
       "9          8.00               3000    Class 1        25000         30000   \n",
       "11         8.00               3000    Class 2        25000         30000   \n",
       "12         6.75               3450    Class 1        20000         25000   \n",
       "37         7.00               2850    Class 2        35000         40000   \n",
       "44         5.25               2100    Class 2        20000         25000   \n",
       "\n",
       "                                                photo  Traffic Median  \n",
       "0   https://www.14ers.com/photos/mtelbert/peakphot...         22500.0  \n",
       "9   https://www.14ers.com/photos/graystorreys/peak...         27500.0  \n",
       "11  https://www.14ers.com/photos/graystorreys/peak...         27500.0  \n",
       "12  https://www.14ers.com/photos/quandarypeak/peak...         22500.0  \n",
       "37  https://www.14ers.com/photos/evansgroup/peakph...         37500.0  \n",
       "44  https://www.14ers.com/photos/mtsherman/peakpho...         22500.0  "
      ]
     },
     "execution_count": 226,
     "metadata": {},
     "output_type": "execute_result"
    }
   ],
   "source": [
    "most_popular_fourteeners = fourteeners[fourteeners['Traffic Median'] > 20000]\n",
    "most_popular_fourteeners"
   ]
  },
  {
   "cell_type": "code",
   "execution_count": 227,
   "id": "fed2043b-27dd-4dd6-b679-c1ef259e864c",
   "metadata": {},
   "outputs": [
    {
     "name": "stdout",
     "output_type": "stream",
     "text": [
      "37    The most popular fourteener is: Mount Bierstadt\n",
      "Name: Mountain Peak, dtype: object\n"
     ]
    }
   ],
   "source": [
    "print('The most popular fourteener is: ' + fourteeners['Mountain Peak'][fourteeners['Traffic Median'] == 37500.0])"
   ]
  },
  {
   "cell_type": "code",
   "execution_count": 240,
   "id": "8b815c9a-2490-4ad4-8136-c2fdb6e0900f",
   "metadata": {},
   "outputs": [
    {
     "data": {
      "image/png": "[encoded data removed]",
      "text/plain": [
       "<Figure size 640x480 with 1 Axes>"
      ]
     },
     "metadata": {},
     "output_type": "display_data"
    }
   ],
   "source": [
    "plt.scatter(fourteeners['Traffic Median'], fourteeners['Elevation_ft'], color = 'slategray')\n",
    "plt.title('Elevation vs Visits')\n",
    "plt.xlabel('Visits')\n",
    "plt.ylabel('Elevation (ft)')\n",
    "plt.show()"
   ]
  },
  {
   "cell_type": "code",
   "execution_count": 374,
   "id": "e3a6efe3-273a-46fb-b1ff-3d892376803e",
   "metadata": {},
   "outputs": [
    {
     "data": {
      "text/plain": [
       "0.2575102212079854"
      ]
     },
     "execution_count": 374,
     "metadata": {},
     "output_type": "execute_result"
    }
   ],
   "source": [
    "# calculate pearson correlation coefficient\n",
    "elevation_visits_r = np.corrcoef(fourteeners['Traffic Median'], fourteeners['Elevation_ft'])\n",
    "elevation_visits_r[0,1]"
   ]
  },
  {
   "cell_type": "markdown",
   "id": "fff93dc2-f337-4b5b-9f31-9209a9fd2b5e",
   "metadata": {},
   "source": [
    "From the scatter plot, there appears to be no correlation between peak elevation and visits in 2017. The pearson correlation coeffient is 0.258 (3 dp.) which shows a very weak positive correlation. This is probably due to the clustering of points in the lower left of the scatter plot implying that peaks with lower elavation tend to get visited less. Due to the very weak correlation, very little can be concluded from this comparison."
   ]
  },
  {
   "cell_type": "code",
   "execution_count": 242,
   "id": "43803036-3ec0-41d9-b54f-30dc19a51b70",
   "metadata": {},
   "outputs": [
    {
     "data": {
      "image/png": "[encoded data removed]",
      "text/plain": [
       "<Figure size 640x480 with 1 Axes>"
      ]
     },
     "metadata": {},
     "output_type": "display_data"
    }
   ],
   "source": [
    "plt.scatter(fourteeners['Traffic Median'], fourteeners['Elevation Gain_ft'], color = 'slategray')\n",
    "plt.title('Elevation Gain vs Visits')\n",
    "plt.xlabel('Visits')\n",
    "plt.ylabel('Elevation Gain (ft)')\n",
    "plt.show()"
   ]
  },
  {
   "cell_type": "code",
   "execution_count": 376,
   "id": "affaea1b-37f8-429c-90d6-4f6617ecd530",
   "metadata": {},
   "outputs": [
    {
     "data": {
      "text/plain": [
       "-0.45079057110470133"
      ]
     },
     "execution_count": 376,
     "metadata": {},
     "output_type": "execute_result"
    }
   ],
   "source": [
    "# calculate pearson correlation coefficient\n",
    "elevation_gain_visits_r = np.corrcoef(fourteeners['Traffic Median'], fourteeners['Elevation Gain_ft'])\n",
    "elevation_gain_visits_r[0,1]"
   ]
  },
  {
   "cell_type": "markdown",
   "id": "169e46ee-9092-4889-a160-322a36f4d8ac",
   "metadata": {},
   "source": [
    "The scatter plot shows a weak negative correlation between the elevation gain along a route to the peak and the number of visits to that peak. The pearson correlation coefficeint of -0.451 (3 dp.) supports this conclusion. This is what I expected to see as more elevation gain along a route would imply a more difficult route and therefore less visitors. I would like to investigate this theory further."
   ]
  },
  {
   "cell_type": "code",
   "execution_count": 339,
   "id": "4c49956b-5c2e-4ed1-8cb7-7af4c8bb4c8d",
   "metadata": {},
   "outputs": [
    {
     "data": {
      "image/png": "[encoded data removed]",
      "text/plain": [
       "<Figure size 640x480 with 1 Axes>"
      ]
     },
     "metadata": {},
     "output_type": "display_data"
    }
   ],
   "source": [
    "plt.scatter(fourteeners['Traffic Median'], fourteeners['Distance_mi'], color = 'slategray')\n",
    "plt.title('Route Distance vs Visits')\n",
    "plt.xlabel('Visits')\n",
    "plt.ylabel('Distance (miles)')\n",
    "plt.show()"
   ]
  },
  {
   "cell_type": "code",
   "execution_count": 378,
   "id": "739a059b-8ab3-42a1-803b-3cf682bfcd3c",
   "metadata": {},
   "outputs": [
    {
     "data": {
      "text/plain": [
       "-0.3421406524778482"
      ]
     },
     "execution_count": 378,
     "metadata": {},
     "output_type": "execute_result"
    }
   ],
   "source": [
    "# calculate pearson correlation coefficient\n",
    "distance_visits_r = np.corrcoef(fourteeners['Traffic Median'], fourteeners['Distance_mi'])\n",
    "distance_visits_r[0,1]"
   ]
  },
  {
   "cell_type": "markdown",
   "id": "5a13070c-b120-4168-aa62-e697b64f2501",
   "metadata": {},
   "source": [
    "The scatter plot shows a weak negative correlation between the distance along a route to the peak and the number of visits to that peak. The pearson correlation coefficeint of -0.342 (3 dp.) supports this conclusion. The correlation between distance and number of visits is wekaer than between elevation gain Again, a longer distance route would imply a more difficulty and therefore mean less visitors. I would like to investigate this similar theory also."
   ]
  },
  {
   "cell_type": "code",
   "execution_count": 341,
   "id": "dc81acf0-0097-4b8d-a030-6fd0ace52c20",
   "metadata": {},
   "outputs": [
    {
     "data": {
      "image/png": "[encoded data removed]",
      "text/plain": [
       "<Figure size 640x480 with 1 Axes>"
      ]
     },
     "metadata": {},
     "output_type": "display_data"
    }
   ],
   "source": [
    "plt.scatter(fourteeners['Traffic Median'], fourteeners['Isolation_mi'], color = 'slategray')\n",
    "plt.title('Isolation of Peak vs Visits')\n",
    "plt.xlabel('Visits')\n",
    "plt.ylabel('Isolation (miles)')\n",
    "plt.show()"
   ]
  },
  {
   "cell_type": "code",
   "execution_count": 380,
   "id": "ef9ed079-86d1-499d-92f6-e224f3a0bc4b",
   "metadata": {},
   "outputs": [
    {
     "data": {
      "text/plain": [
       "0.23340030073364404"
      ]
     },
     "execution_count": 380,
     "metadata": {},
     "output_type": "execute_result"
    }
   ],
   "source": [
    "# calculate pearson correlation coefficient\n",
    "isolation_visits_r = np.corrcoef(fourteeners['Traffic Median'], fourteeners['Isolation_mi'])\n",
    "isolation_visits_r[0,1]"
   ]
  },
  {
   "cell_type": "markdown",
   "id": "857642a5-1add-4780-b2d0-9886c0f93c8a",
   "metadata": {},
   "source": [
    "From this scatter plot, there appears to be no correlation between the isolation of a peak and the number of visits in 2017. The pearson correlation coeffient is 0.233 (3 dp.) which shows a very weak positive correlation. Due to the very weak correlation, very little can be concluded from this comparison."
   ]
  },
  {
   "cell_type": "code",
   "execution_count": 260,
   "id": "9c3d37b5-9aac-44a6-b661-511c056836af",
   "metadata": {},
   "outputs": [
    {
     "data": {
      "text/plain": [
       "array(['Class 1', 'Class 2', 'Hard Class 2', 'Class 3', 'Class 4',\n",
       "       'Easy Class 3', 'Hard Class 3'], dtype=object)"
      ]
     },
     "execution_count": 260,
     "metadata": {},
     "output_type": "execute_result"
    }
   ],
   "source": [
    "difficulty_ratings = fourteeners['Difficulty'].unique()\n",
    "difficulty_ratings"
   ]
  },
  {
   "cell_type": "code",
   "execution_count": 262,
   "id": "53ea5ebe-3d59-4bfd-84a9-b73ec36ba9c8",
   "metadata": {},
   "outputs": [
    {
     "data": {
      "text/plain": [
       "['Class 1',\n",
       " 'Class 2',\n",
       " 'Hard Class 2',\n",
       " 'Easy Class 3',\n",
       " 'Class 3',\n",
       " 'Hard Class 3',\n",
       " 'Class 4']"
      ]
     },
     "execution_count": 262,
     "metadata": {},
     "output_type": "execute_result"
    }
   ],
   "source": [
    "difficulty_ratings_ordered = ['Class 1', 'Class 2', 'Hard Class 2', 'Easy Class 3', 'Class 3', 'Hard Class 3', 'Class 4']\n",
    "difficulty_ratings_ordered"
   ]
  },
  {
   "cell_type": "code",
   "execution_count": 296,
   "id": "5898777a-2ab2-4be1-95d5-11236602e177",
   "metadata": {},
   "outputs": [
    {
     "data": {
      "text/plain": [
       "[100000.0, 252000.0, 12000.0, 8000.0, 33500.0, 2000.0, 12000.0]"
      ]
     },
     "execution_count": 296,
     "metadata": {},
     "output_type": "execute_result"
    }
   ],
   "source": [
    "class_1 = fourteeners[fourteeners[\"Difficulty\"] == \"Class 1\"][\"Traffic Median\"].sum()\n",
    "class_2 = fourteeners[fourteeners[\"Difficulty\"] == \"Class 2\"][\"Traffic Median\"].sum()\n",
    "hard_class_2 = fourteeners[fourteeners[\"Difficulty\"] == \"Hard Class 2\"][\"Traffic Median\"].sum()\n",
    "easy_class_3 = fourteeners[fourteeners[\"Difficulty\"] == \"Easy Class 3\"][\"Traffic Median\"].sum()\n",
    "class_3 = fourteeners[fourteeners[\"Difficulty\"] == \"Class 3\"][\"Traffic Median\"].sum()\n",
    "hard_class_3 = fourteeners[fourteeners[\"Difficulty\"] == \"Hard Class 3\"][\"Traffic Median\"].sum()\n",
    "class_4 = fourteeners[fourteeners[\"Difficulty\"] == \"Class 4\"][\"Traffic Median\"].sum()\n",
    "difficulty_visits = [class_1, class_2, hard_class_2, easy_class_3, class_3, hard_class_3, class_4]\n",
    "difficulty_visits"
   ]
  },
  {
   "cell_type": "code",
   "execution_count": 324,
   "id": "9fbaba22-1e80-4b0d-b246-d0c7738609c2",
   "metadata": {},
   "outputs": [
    {
     "data": {
      "image/png": "[encoded data removed]",
      "text/plain": [
       "<Figure size 640x480 with 1 Axes>"
      ]
     },
     "metadata": {},
     "output_type": "display_data"
    }
   ],
   "source": [
    "plt.bar(range(len(difficulty_visits)), difficulty_visits, color = 'slategray')\n",
    "ax = plt.subplot()\n",
    "plt.title('Total Visits for each Difficulty Rating')\n",
    "plt.xlabel('Difficulty')\n",
    "plt.ylabel('Total Visits')\n",
    "ax.set_xticks(range(len(difficulty_visits)))\n",
    "ax.set_xticklabels(difficulty_ratings_ordered, rotation = 45)\n",
    "plt.show()"
   ]
  },
  {
   "cell_type": "markdown",
   "id": "c0245fc1-17d4-4d4a-aa0e-bb581ba0304b",
   "metadata": {},
   "source": [
    "From the barplot we can see that the most visits in 2017 were to peaks with easier difficulty ratings. However this data is potentially misleading as most of the fourteeners are of the 'Class 2' difficulty rating and therefore we would expect there to be more visits to 'Class 2' difficulty peaks overall. A better analysis could be to look at the average number of visitors per difficulty rating, however, this data would also be unrelaiable as some of the difficulty ratings apply to only one or two peaks."
   ]
  },
  {
   "cell_type": "markdown",
   "id": "b2bbfbb8-d97d-4505-b293-7536d0eb1008",
   "metadata": {},
   "source": [
    "-----\n",
    "## Conclusion\n",
    "\n",
    "The project aimed to answer the following questions:\n",
    "\n",
    "- What is the distribution of elevation of the fourteeners?\n",
    "    - A large proportion of the fourteeners were on the shorter end of the spectrum with many fourteeners being between 14000 and 14100 feet.\n",
    "- Which fourteeners are the most popular?\n",
    "    - The most popular peak was Mount Bierstadt. Grays Peak and Torreys Peak were also very popular. All three of these peaks were located in the Front Range.\n",
    "- Does elevation, elevation gain, distance, isolation or difficulty affect the foot traffic of the fourteeners?\n",
    "    - Both the elevation and isolation of a peak seemed to have no relationship with the number of visitors to a peak. Whereas both elevation gain and the distance of a route did seem to have an effect on the number of visitors to a peak. The greater the elevation gain and the greater the distance, the fewer the number of visitors that the peak had in 2017. Peaks with easier difficulty ratings had more visitors in 2017.\n",
    " \n",
    "### Limitations\n",
    "\n",
    "As part of the analysis process I had to use the Traffic Low and Traffic High columns to calculate a median as an estimate for the number of visits for each peak in 2017. As this number is only an estimate, our comparison and analysis of elelevation, elevation gain, distance, isolation or difficulty in relation to the foot traffic of a peak cannot be accurate. A better investaigation into the relationship would be acomplished with more accurate visitor data.\n",
    "\n",
    "Most of the fourteeners were of the 'Class 2' difficulty rating and therefore as was expected there to be more visits to 'Class 2' difficulty peaks overall. A better analysis could be to look at the average number of visitors per difficulty rating, however, this data would also be unrelaiable as some of the difficulty ratings apply to only one or two peaks. A further analysis of these relationships would require data from more mountain ranges in different parts of the world.\n",
    "\n",
    "### Next Steps\n",
    "\n",
    "Based on the results of this project I am interested in the effect of elevation gain and distance on the difficulty rating on peak. One would assume that more elevation gain and longer distances would result in higher difficulty ratings, however, I would be interested to investigate *how much* these values factor into the ratings.\n",
    "\n",
    "From this project we found that the three most popular peaks were all located in the front range. I would be interested to investigate whether some mountain ranges are more popular overall. Factors affecting this could include accessibility and location."
   ]
  }
 ],
 "metadata": {
  "kernelspec": {
   "display_name": "Python 3 (ipykernel)",
   "language": "python",
   "name": "python3"
  },
  "language_info": {
   "codemirror_mode": {
    "name": "ipython",
    "version": 3
   },
   "file_extension": ".py",
   "mimetype": "text/x-python",
   "name": "python",
   "nbconvert_exporter": "python",
   "pygments_lexer": "ipython3",
   "version": "3.12.4"
  }
 },
 "nbformat": 4,
 "nbformat_minor": 5
}
